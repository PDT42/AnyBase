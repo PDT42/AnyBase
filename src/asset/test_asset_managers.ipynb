{
 "cells": [
  {
   "cell_type": "markdown",
   "metadata": {
    "collapsed": true,
    "pycharm": {
     "name": "#%% md\n"
    }
   },
   "source": [
    "## Adjust Path"
   ]
  },
  {
   "cell_type": "code",
   "execution_count": 1,
   "outputs": [
    {
     "data": {
      "text/plain": "'U:\\\\Projects\\\\anybase_modular_management\\\\src'"
     },
     "execution_count": 1,
     "metadata": {},
     "output_type": "execute_result"
    }
   ],
   "source": [
    "import os\n",
    "os.chdir('U:\\\\Projects\\\\anybase_modular_management\\\\src')\n",
    "os.getcwd()"
   ],
   "metadata": {
    "collapsed": false,
    "pycharm": {
     "name": "#%%\n"
    }
   }
  },
  {
   "cell_type": "markdown",
   "source": [
    "## Change Config Path"
   ],
   "metadata": {
    "collapsed": false
   }
  },
  {
   "cell_type": "code",
   "execution_count": 2,
   "outputs": [],
   "source": [
    "from config import Config\n",
    "Config.get().change_path('U:/Projects/anybase_modular_management/res/config.ini')"
   ],
   "metadata": {
    "collapsed": false,
    "pycharm": {
     "name": "#%%\n"
    }
   }
  },
  {
   "cell_type": "markdown",
   "source": [
    "## Required Imports"
   ],
   "metadata": {
    "collapsed": false
   }
  },
  {
   "cell_type": "code",
   "execution_count": 3,
   "outputs": [],
   "source": [
    "from pprint import pprint\n",
    "\n",
    "from asset import AssetType\n",
    "from asset import Asset\n",
    "from asset.asset_manager import AssetManager\n",
    "from database import Column, DataTypes\n",
    "from asset.asset_type_manager import AssetTypeManager"
   ],
   "metadata": {
    "collapsed": false,
    "pycharm": {
     "name": "#%%\n"
    }
   }
  },
  {
   "cell_type": "markdown",
   "source": [
    "## Creating AssetTypes - Trying AssetTypeManager\n",
    "\n",
    "Trying:\n",
    "* AssetTypeManager.create_asset_type()\n",
    "* AssetTypeManager.get_all()\n",
    "* AssetTypeManager.delete_asset_type()"
   ],
   "metadata": {
    "collapsed": false,
    "pycharm": {
     "name": "#%% md\n"
    }
   }
  },
  {
   "cell_type": "code",
   "execution_count": 4,
   "outputs": [
    {
     "name": "stdout",
     "output_type": "stream",
     "text": [
      "Create-1 returned: None\n",
      "Create-2 returned: None\n",
      "Create-d returned: None\n",
      "\n",
      "After Create - Before Delete:\n",
      "[AssetType(asset_name='TestAsset', columns=[Column(name='test_value_1', datatype=DataType(typename='TEXT', db_type='VARCHAR', convert=<class 'str'>), required=True), Column(name='test_value_2', datatype=DataType(typename='TEXT', db_type='VARCHAR', convert=<class 'str'>), required=True)], asset_table_name='abasset_table_TestAsset', asset_type_id=1),\n",
      " AssetType(asset_name='TestAsset2', columns=[Column(name='test_value_1', datatype=DataType(typename='TEXT', db_type='VARCHAR', convert=<class 'str'>), required=True), Column(name='test_value_2', datatype=DataType(typename='TEXT', db_type='VARCHAR', convert=<class 'str'>), required=True)], asset_table_name='abasset_table_TestAsset2', asset_type_id=2),\n",
      " AssetType(asset_name='ToBeDeleted', columns=[Column(name='delete_value_1', datatype=DataType(typename='TEXT', db_type='VARCHAR', convert=<class 'str'>), required=True), Column(name='delete_value_2', datatype=DataType(typename='TEXT', db_type='VARCHAR', convert=<class 'str'>), required=True)], asset_table_name='abasset_table_ToBeDeleted', asset_type_id=3)]\n",
      "\n",
      "After Delete:\n",
      "[AssetType(asset_name='TestAsset', columns=[Column(name='test_value_1', datatype=DataType(typename='TEXT', db_type='VARCHAR', convert=<class 'str'>), required=True), Column(name='test_value_2', datatype=DataType(typename='TEXT', db_type='VARCHAR', convert=<class 'str'>), required=True)], asset_table_name='abasset_table_TestAsset', asset_type_id=1),\n",
      " AssetType(asset_name='TestAsset2', columns=[Column(name='test_value_1', datatype=DataType(typename='TEXT', db_type='VARCHAR', convert=<class 'str'>), required=True), Column(name='test_value_2', datatype=DataType(typename='TEXT', db_type='VARCHAR', convert=<class 'str'>), required=True)], asset_table_name='abasset_table_TestAsset2', asset_type_id=2)]\n"
     ]
    }
   ],
   "source": [
    "asset_type_manager = AssetTypeManager()\n",
    "\n",
    "rType = AssetType(\n",
    "    'TestAsset',\n",
    "    [\n",
    "        Column('test_value_1', DataTypes.VARCHAR, True),\n",
    "        Column('test_value_2', DataTypes.VARCHAR, True)\n",
    "    ])\n",
    "\n",
    "rType2 = AssetType(\n",
    "    'TestAsset2',\n",
    "    [\n",
    "        Column('test_value_1', DataTypes.VARCHAR, True),\n",
    "        Column('test_value_2', DataTypes.VARCHAR, True)\n",
    "    ])\n",
    "\n",
    "dType = AssetType(\n",
    "    'ToBeDeleted',\n",
    "    [\n",
    "        Column('delete_value_1', DataTypes.VARCHAR, True),\n",
    "        Column('delete_value_2', DataTypes.VARCHAR, True)\n",
    "    ])\n",
    "\n",
    "\n",
    "create_1 = asset_type_manager.create_asset_type(rType)\n",
    "create_2 = asset_type_manager.create_asset_type(rType2)\n",
    "create_d = asset_type_manager.create_asset_type(dType)\n",
    "\n",
    "print(f\"Create-1 returned: {create_1}\")\n",
    "print(f\"Create-2 returned: {create_2}\")\n",
    "print(f\"Create-d returned: {create_d}\")\n",
    "\n",
    "print(\"\\nAfter Create - Before Delete:\")\n",
    "asset_types = asset_type_manager.get_all()\n",
    "pprint(asset_types)\n",
    "\n",
    "dType = list(filter(lambda at: at.asset_name == 'ToBeDeleted', asset_types))[0]\n",
    "\n",
    "print(\"\\nAfter Delete:\")\n",
    "asset_type_manager.delete_asset_type(dType)\n",
    "asset_types = asset_type_manager.get_all()\n",
    "pprint(asset_types)\n",
    "\n"
   ],
   "metadata": {
    "collapsed": false,
    "pycharm": {
     "name": "#%%\n"
    }
   }
  },
  {
   "cell_type": "markdown",
   "source": [
    "## Creating Assets - Trying AssetManager\n",
    "\n",
    "Trying:\n",
    "* AssetManager.create_asset()\n",
    "* AssetManager.get_all()\n",
    "* AssetManager.delete_asset()"
   ],
   "metadata": {
    "collapsed": false
   }
  },
  {
   "cell_type": "code",
   "execution_count": 5,
   "outputs": [
    {
     "ename": "TypeError",
     "evalue": "__new__() takes 3 positional arguments but 4 were given",
     "output_type": "error",
     "traceback": [
      "\u001B[1;31m---------------------------------------------------------------------------\u001B[0m",
      "\u001B[1;31mTypeError\u001B[0m                                 Traceback (most recent call last)",
      "\u001B[1;32m<ipython-input-5-16dcea8b9b63>\u001B[0m in \u001B[0;36m<module>\u001B[1;34m\u001B[0m\n\u001B[0;32m      2\u001B[0m \u001B[1;33m\u001B[0m\u001B[0m\n\u001B[0;32m      3\u001B[0m \u001B[0mrType\u001B[0m \u001B[1;33m=\u001B[0m \u001B[0masset_types\u001B[0m\u001B[1;33m[\u001B[0m\u001B[1;36m0\u001B[0m\u001B[1;33m]\u001B[0m\u001B[1;33m\u001B[0m\u001B[1;33m\u001B[0m\u001B[0m\n\u001B[1;32m----> 4\u001B[1;33m \u001B[0mtAsset\u001B[0m \u001B[1;33m=\u001B[0m \u001B[0mAsset\u001B[0m\u001B[1;33m(\u001B[0m\u001B[1;32mNone\u001B[0m\u001B[1;33m,\u001B[0m \u001B[0mrType\u001B[0m\u001B[1;33m,\u001B[0m \u001B[1;33m{\u001B[0m\u001B[1;34m'test_value_1'\u001B[0m\u001B[1;33m:\u001B[0m \u001B[1;34m'some value 1'\u001B[0m\u001B[1;33m,\u001B[0m \u001B[1;34m'test_value_2'\u001B[0m\u001B[1;33m:\u001B[0m \u001B[1;34m'some value 2'\u001B[0m\u001B[1;33m}\u001B[0m\u001B[1;33m)\u001B[0m\u001B[1;33m\u001B[0m\u001B[1;33m\u001B[0m\u001B[0m\n\u001B[0m\u001B[0;32m      5\u001B[0m \u001B[1;33m\u001B[0m\u001B[0m\n\u001B[0;32m      6\u001B[0m \u001B[0mprint\u001B[0m\u001B[1;33m(\u001B[0m\u001B[1;34m\"After Create - Before Delete\"\u001B[0m\u001B[1;33m)\u001B[0m\u001B[1;33m\u001B[0m\u001B[1;33m\u001B[0m\u001B[0m\n",
      "\u001B[1;31mTypeError\u001B[0m: __new__() takes 3 positional arguments but 4 were given"
     ]
    }
   ],
   "source": [
    "asset_manager = AssetManager()\n",
    "\n",
    "rType = asset_types[0]\n",
    "tAsset = Asset(None, rType, {'test_value_1': 'some value 1', 'test_value_2': 'some value 2'})\n",
    "\n",
    "print(\"After Create - Before Delete\")\n",
    "asset_manager.create_asset(tAsset)\n",
    "assets = asset_manager.get_all(rType)\n",
    "pprint(assets)\n",
    "\n",
    "print(\"After Delete\")\n",
    "asset_manager.delete_asset(assets[0])\n",
    "assets = asset_manager.get_all(rType)\n",
    "pprint(assets)"
   ],
   "metadata": {
    "collapsed": false,
    "pycharm": {
     "name": "#%%\n"
    }
   }
  }
 ],
 "metadata": {
  "kernelspec": {
   "display_name": "Python 3",
   "language": "python",
   "name": "python3"
  },
  "language_info": {
   "codemirror_mode": {
    "name": "ipython",
    "version": 2
   },
   "file_extension": ".py",
   "mimetype": "text/x-python",
   "name": "python",
   "nbconvert_exporter": "python",
   "pygments_lexer": "ipython2",
   "version": "2.7.6"
  }
 },
 "nbformat": 4,
 "nbformat_minor": 0
}